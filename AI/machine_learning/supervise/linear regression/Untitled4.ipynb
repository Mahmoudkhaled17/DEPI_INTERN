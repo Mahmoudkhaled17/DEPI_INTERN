{
  "nbformat": 4,
  "nbformat_minor": 0,
  "metadata": {
    "colab": {
      "provenance": []
    },
    "kernelspec": {
      "name": "python3",
      "display_name": "Python 3"
    },
    "language_info": {
      "name": "python"
    }
  },
  "cells": [
    {
      "cell_type": "code",
      "execution_count": null,
      "metadata": {
        "id": "13ZjSvcr8Xhd"
      },
      "outputs": [],
      "source": [
        "import pandas as pd\n",
        "import numpy as np\n",
        "import matplotlib.pyplot as plt\n",
        "from sklearn.model_selection import train_test_split\n",
        "from sklearn.linear_model import LinearRegression\n",
        "from sklearn.metrics import r2_score,mean_squared_error\n",
        "from sklearn.preprocessing import MinMaxScaler"
      ]
    },
    {
      "cell_type": "code",
      "source": [
        "file=pd.read_csv(\"/content/tvmarketing.csv\")"
      ],
      "metadata": {
        "id": "97qF_b079VUj"
      },
      "execution_count": null,
      "outputs": []
    },
    {
      "cell_type": "code",
      "source": [
        "file.head()"
      ],
      "metadata": {
        "id": "EUsJ6WXZ9iNg",
        "colab": {
          "base_uri": "https://localhost:8080/",
          "height": 206
        },
        "outputId": "bbe716d3-5f8d-4e90-e572-3f7208b779bd"
      },
      "execution_count": null,
      "outputs": [
        {
          "output_type": "execute_result",
          "data": {
            "text/plain": [
              "      TV  Sales\n",
              "0  230.1   22.1\n",
              "1   44.5   10.4\n",
              "2   17.2    9.3\n",
              "3  151.5   18.5\n",
              "4  180.8   12.9"
            ],
            "text/html": [
              "\n",
              "  <div id=\"df-2c469949-def7-4803-8c15-f7a84a34d0c0\" class=\"colab-df-container\">\n",
              "    <div>\n",
              "<style scoped>\n",
              "    .dataframe tbody tr th:only-of-type {\n",
              "        vertical-align: middle;\n",
              "    }\n",
              "\n",
              "    .dataframe tbody tr th {\n",
              "        vertical-align: top;\n",
              "    }\n",
              "\n",
              "    .dataframe thead th {\n",
              "        text-align: right;\n",
              "    }\n",
              "</style>\n",
              "<table border=\"1\" class=\"dataframe\">\n",
              "  <thead>\n",
              "    <tr style=\"text-align: right;\">\n",
              "      <th></th>\n",
              "      <th>TV</th>\n",
              "      <th>Sales</th>\n",
              "    </tr>\n",
              "  </thead>\n",
              "  <tbody>\n",
              "    <tr>\n",
              "      <th>0</th>\n",
              "      <td>230.1</td>\n",
              "      <td>22.1</td>\n",
              "    </tr>\n",
              "    <tr>\n",
              "      <th>1</th>\n",
              "      <td>44.5</td>\n",
              "      <td>10.4</td>\n",
              "    </tr>\n",
              "    <tr>\n",
              "      <th>2</th>\n",
              "      <td>17.2</td>\n",
              "      <td>9.3</td>\n",
              "    </tr>\n",
              "    <tr>\n",
              "      <th>3</th>\n",
              "      <td>151.5</td>\n",
              "      <td>18.5</td>\n",
              "    </tr>\n",
              "    <tr>\n",
              "      <th>4</th>\n",
              "      <td>180.8</td>\n",
              "      <td>12.9</td>\n",
              "    </tr>\n",
              "  </tbody>\n",
              "</table>\n",
              "</div>\n",
              "    <div class=\"colab-df-buttons\">\n",
              "\n",
              "  <div class=\"colab-df-container\">\n",
              "    <button class=\"colab-df-convert\" onclick=\"convertToInteractive('df-2c469949-def7-4803-8c15-f7a84a34d0c0')\"\n",
              "            title=\"Convert this dataframe to an interactive table.\"\n",
              "            style=\"display:none;\">\n",
              "\n",
              "  <svg xmlns=\"http://www.w3.org/2000/svg\" height=\"24px\" viewBox=\"0 -960 960 960\">\n",
              "    <path d=\"M120-120v-720h720v720H120Zm60-500h600v-160H180v160Zm220 220h160v-160H400v160Zm0 220h160v-160H400v160ZM180-400h160v-160H180v160Zm440 0h160v-160H620v160ZM180-180h160v-160H180v160Zm440 0h160v-160H620v160Z\"/>\n",
              "  </svg>\n",
              "    </button>\n",
              "\n",
              "  <style>\n",
              "    .colab-df-container {\n",
              "      display:flex;\n",
              "      gap: 12px;\n",
              "    }\n",
              "\n",
              "    .colab-df-convert {\n",
              "      background-color: #E8F0FE;\n",
              "      border: none;\n",
              "      border-radius: 50%;\n",
              "      cursor: pointer;\n",
              "      display: none;\n",
              "      fill: #1967D2;\n",
              "      height: 32px;\n",
              "      padding: 0 0 0 0;\n",
              "      width: 32px;\n",
              "    }\n",
              "\n",
              "    .colab-df-convert:hover {\n",
              "      background-color: #E2EBFA;\n",
              "      box-shadow: 0px 1px 2px rgba(60, 64, 67, 0.3), 0px 1px 3px 1px rgba(60, 64, 67, 0.15);\n",
              "      fill: #174EA6;\n",
              "    }\n",
              "\n",
              "    .colab-df-buttons div {\n",
              "      margin-bottom: 4px;\n",
              "    }\n",
              "\n",
              "    [theme=dark] .colab-df-convert {\n",
              "      background-color: #3B4455;\n",
              "      fill: #D2E3FC;\n",
              "    }\n",
              "\n",
              "    [theme=dark] .colab-df-convert:hover {\n",
              "      background-color: #434B5C;\n",
              "      box-shadow: 0px 1px 3px 1px rgba(0, 0, 0, 0.15);\n",
              "      filter: drop-shadow(0px 1px 2px rgba(0, 0, 0, 0.3));\n",
              "      fill: #FFFFFF;\n",
              "    }\n",
              "  </style>\n",
              "\n",
              "    <script>\n",
              "      const buttonEl =\n",
              "        document.querySelector('#df-2c469949-def7-4803-8c15-f7a84a34d0c0 button.colab-df-convert');\n",
              "      buttonEl.style.display =\n",
              "        google.colab.kernel.accessAllowed ? 'block' : 'none';\n",
              "\n",
              "      async function convertToInteractive(key) {\n",
              "        const element = document.querySelector('#df-2c469949-def7-4803-8c15-f7a84a34d0c0');\n",
              "        const dataTable =\n",
              "          await google.colab.kernel.invokeFunction('convertToInteractive',\n",
              "                                                    [key], {});\n",
              "        if (!dataTable) return;\n",
              "\n",
              "        const docLinkHtml = 'Like what you see? Visit the ' +\n",
              "          '<a target=\"_blank\" href=https://colab.research.google.com/notebooks/data_table.ipynb>data table notebook</a>'\n",
              "          + ' to learn more about interactive tables.';\n",
              "        element.innerHTML = '';\n",
              "        dataTable['output_type'] = 'display_data';\n",
              "        await google.colab.output.renderOutput(dataTable, element);\n",
              "        const docLink = document.createElement('div');\n",
              "        docLink.innerHTML = docLinkHtml;\n",
              "        element.appendChild(docLink);\n",
              "      }\n",
              "    </script>\n",
              "  </div>\n",
              "\n",
              "\n",
              "<div id=\"df-7e41ce7a-5f9c-4d21-8ff4-400795efa12d\">\n",
              "  <button class=\"colab-df-quickchart\" onclick=\"quickchart('df-7e41ce7a-5f9c-4d21-8ff4-400795efa12d')\"\n",
              "            title=\"Suggest charts\"\n",
              "            style=\"display:none;\">\n",
              "\n",
              "<svg xmlns=\"http://www.w3.org/2000/svg\" height=\"24px\"viewBox=\"0 0 24 24\"\n",
              "     width=\"24px\">\n",
              "    <g>\n",
              "        <path d=\"M19 3H5c-1.1 0-2 .9-2 2v14c0 1.1.9 2 2 2h14c1.1 0 2-.9 2-2V5c0-1.1-.9-2-2-2zM9 17H7v-7h2v7zm4 0h-2V7h2v10zm4 0h-2v-4h2v4z\"/>\n",
              "    </g>\n",
              "</svg>\n",
              "  </button>\n",
              "\n",
              "<style>\n",
              "  .colab-df-quickchart {\n",
              "      --bg-color: #E8F0FE;\n",
              "      --fill-color: #1967D2;\n",
              "      --hover-bg-color: #E2EBFA;\n",
              "      --hover-fill-color: #174EA6;\n",
              "      --disabled-fill-color: #AAA;\n",
              "      --disabled-bg-color: #DDD;\n",
              "  }\n",
              "\n",
              "  [theme=dark] .colab-df-quickchart {\n",
              "      --bg-color: #3B4455;\n",
              "      --fill-color: #D2E3FC;\n",
              "      --hover-bg-color: #434B5C;\n",
              "      --hover-fill-color: #FFFFFF;\n",
              "      --disabled-bg-color: #3B4455;\n",
              "      --disabled-fill-color: #666;\n",
              "  }\n",
              "\n",
              "  .colab-df-quickchart {\n",
              "    background-color: var(--bg-color);\n",
              "    border: none;\n",
              "    border-radius: 50%;\n",
              "    cursor: pointer;\n",
              "    display: none;\n",
              "    fill: var(--fill-color);\n",
              "    height: 32px;\n",
              "    padding: 0;\n",
              "    width: 32px;\n",
              "  }\n",
              "\n",
              "  .colab-df-quickchart:hover {\n",
              "    background-color: var(--hover-bg-color);\n",
              "    box-shadow: 0 1px 2px rgba(60, 64, 67, 0.3), 0 1px 3px 1px rgba(60, 64, 67, 0.15);\n",
              "    fill: var(--button-hover-fill-color);\n",
              "  }\n",
              "\n",
              "  .colab-df-quickchart-complete:disabled,\n",
              "  .colab-df-quickchart-complete:disabled:hover {\n",
              "    background-color: var(--disabled-bg-color);\n",
              "    fill: var(--disabled-fill-color);\n",
              "    box-shadow: none;\n",
              "  }\n",
              "\n",
              "  .colab-df-spinner {\n",
              "    border: 2px solid var(--fill-color);\n",
              "    border-color: transparent;\n",
              "    border-bottom-color: var(--fill-color);\n",
              "    animation:\n",
              "      spin 1s steps(1) infinite;\n",
              "  }\n",
              "\n",
              "  @keyframes spin {\n",
              "    0% {\n",
              "      border-color: transparent;\n",
              "      border-bottom-color: var(--fill-color);\n",
              "      border-left-color: var(--fill-color);\n",
              "    }\n",
              "    20% {\n",
              "      border-color: transparent;\n",
              "      border-left-color: var(--fill-color);\n",
              "      border-top-color: var(--fill-color);\n",
              "    }\n",
              "    30% {\n",
              "      border-color: transparent;\n",
              "      border-left-color: var(--fill-color);\n",
              "      border-top-color: var(--fill-color);\n",
              "      border-right-color: var(--fill-color);\n",
              "    }\n",
              "    40% {\n",
              "      border-color: transparent;\n",
              "      border-right-color: var(--fill-color);\n",
              "      border-top-color: var(--fill-color);\n",
              "    }\n",
              "    60% {\n",
              "      border-color: transparent;\n",
              "      border-right-color: var(--fill-color);\n",
              "    }\n",
              "    80% {\n",
              "      border-color: transparent;\n",
              "      border-right-color: var(--fill-color);\n",
              "      border-bottom-color: var(--fill-color);\n",
              "    }\n",
              "    90% {\n",
              "      border-color: transparent;\n",
              "      border-bottom-color: var(--fill-color);\n",
              "    }\n",
              "  }\n",
              "</style>\n",
              "\n",
              "  <script>\n",
              "    async function quickchart(key) {\n",
              "      const quickchartButtonEl =\n",
              "        document.querySelector('#' + key + ' button');\n",
              "      quickchartButtonEl.disabled = true;  // To prevent multiple clicks.\n",
              "      quickchartButtonEl.classList.add('colab-df-spinner');\n",
              "      try {\n",
              "        const charts = await google.colab.kernel.invokeFunction(\n",
              "            'suggestCharts', [key], {});\n",
              "      } catch (error) {\n",
              "        console.error('Error during call to suggestCharts:', error);\n",
              "      }\n",
              "      quickchartButtonEl.classList.remove('colab-df-spinner');\n",
              "      quickchartButtonEl.classList.add('colab-df-quickchart-complete');\n",
              "    }\n",
              "    (() => {\n",
              "      let quickchartButtonEl =\n",
              "        document.querySelector('#df-7e41ce7a-5f9c-4d21-8ff4-400795efa12d button');\n",
              "      quickchartButtonEl.style.display =\n",
              "        google.colab.kernel.accessAllowed ? 'block' : 'none';\n",
              "    })();\n",
              "  </script>\n",
              "</div>\n",
              "\n",
              "    </div>\n",
              "  </div>\n"
            ],
            "application/vnd.google.colaboratory.intrinsic+json": {
              "type": "dataframe",
              "variable_name": "file",
              "summary": "{\n  \"name\": \"file\",\n  \"rows\": 200,\n  \"fields\": [\n    {\n      \"column\": \"TV\",\n      \"properties\": {\n        \"dtype\": \"number\",\n        \"std\": 85.85423631490808,\n        \"min\": 0.7,\n        \"max\": 296.4,\n        \"num_unique_values\": 190,\n        \"samples\": [\n          287.6,\n          286.0,\n          78.2\n        ],\n        \"semantic_type\": \"\",\n        \"description\": \"\"\n      }\n    },\n    {\n      \"column\": \"Sales\",\n      \"properties\": {\n        \"dtype\": \"number\",\n        \"std\": 5.217456565710478,\n        \"min\": 1.6,\n        \"max\": 27.0,\n        \"num_unique_values\": 121,\n        \"samples\": [\n          11.4,\n          21.2,\n          12.9\n        ],\n        \"semantic_type\": \"\",\n        \"description\": \"\"\n      }\n    }\n  ]\n}"
            }
          },
          "metadata": {},
          "execution_count": 51
        }
      ]
    },
    {
      "cell_type": "code",
      "source": [
        "file.isnull().sum()"
      ],
      "metadata": {
        "colab": {
          "base_uri": "https://localhost:8080/"
        },
        "id": "O1qMJvQ1-w6m",
        "outputId": "eeaffd36-8493-46ed-a413-37cc26915746"
      },
      "execution_count": null,
      "outputs": [
        {
          "output_type": "execute_result",
          "data": {
            "text/plain": [
              "TV       0\n",
              "Sales    0\n",
              "dtype: int64"
            ]
          },
          "metadata": {},
          "execution_count": 52
        }
      ]
    },
    {
      "cell_type": "code",
      "source": [
        "file.iloc[:,0]"
      ],
      "metadata": {
        "colab": {
          "base_uri": "https://localhost:8080/"
        },
        "id": "iKqaNdVsGRXG",
        "outputId": "9ad37cdb-3354-4cc6-848b-08527c435fc2"
      },
      "execution_count": null,
      "outputs": [
        {
          "output_type": "execute_result",
          "data": {
            "text/plain": [
              "0      230.1\n",
              "1       44.5\n",
              "2       17.2\n",
              "3      151.5\n",
              "4      180.8\n",
              "       ...  \n",
              "195     38.2\n",
              "196     94.2\n",
              "197    177.0\n",
              "198    283.6\n",
              "199    232.1\n",
              "Name: TV, Length: 200, dtype: float64"
            ]
          },
          "metadata": {},
          "execution_count": 56
        }
      ]
    },
    {
      "cell_type": "code",
      "source": [
        "scalr=MinMaxScaler()\n",
        "x_data=scalr.fit_transform(file.iloc[:,0].values.reshape(-1,1))\n",
        "y_data=scalr.fit_transform(file.iloc[:,1].values.reshape(-1,1))"
      ],
      "metadata": {
        "id": "GHHBnkeNGdCU"
      },
      "execution_count": null,
      "outputs": []
    },
    {
      "cell_type": "code",
      "source": [
        "x_data"
      ],
      "metadata": {
        "colab": {
          "base_uri": "https://localhost:8080/"
        },
        "id": "boZ7ZSA2G6_m",
        "outputId": "65fc578a-bb90-4063-ee80-8bcbeab3eb83"
      },
      "execution_count": null,
      "outputs": [
        {
          "output_type": "execute_result",
          "data": {
            "text/plain": [
              "array([[0.77578627],\n",
              "       [0.1481231 ],\n",
              "       [0.0557998 ],\n",
              "       [0.50997633],\n",
              "       [0.60906324],\n",
              "       [0.02705445],\n",
              "       [0.19208657],\n",
              "       [0.4041258 ],\n",
              "       [0.02671627],\n",
              "       [0.67331755],\n",
              "       [0.2211701 ],\n",
              "       [0.72370646],\n",
              "       [0.07811972],\n",
              "       [0.32735881],\n",
              "       [0.68785932],\n",
              "       [0.65843761],\n",
              "       [0.22691917],\n",
              "       [0.94927291],\n",
              "       [0.2316537 ],\n",
              "       [0.49577274],\n",
              "       [0.73621914],\n",
              "       [0.80047345],\n",
              "       [0.04227257],\n",
              "       [0.76969902],\n",
              "       [0.20831924],\n",
              "       [0.8867095 ],\n",
              "       [0.4808928 ],\n",
              "       [0.80960433],\n",
              "       [0.83902604],\n",
              "       [0.23638823],\n",
              "       [0.98816368],\n",
              "       [0.37943862],\n",
              "       [0.32634427],\n",
              "       [0.89584038],\n",
              "       [0.32127156],\n",
              "       [0.98072371],\n",
              "       [0.90023673],\n",
              "       [0.25025364],\n",
              "       [0.14338857],\n",
              "       [0.76868448],\n",
              "       [0.68244843],\n",
              "       [0.59621238],\n",
              "       [0.99053094],\n",
              "       [0.69732837],\n",
              "       [0.08251606],\n",
              "       [0.58978695],\n",
              "       [0.30098072],\n",
              "       [0.80892797],\n",
              "       [0.76597903],\n",
              "       [0.22387555],\n",
              "       [0.67331755],\n",
              "       [0.33716605],\n",
              "       [0.72945553],\n",
              "       [0.61515049],\n",
              "       [0.88603314],\n",
              "       [0.67027393],\n",
              "       [0.02231992],\n",
              "       [0.4582347 ],\n",
              "       [0.71051742],\n",
              "       [0.71017924],\n",
              "       [0.17855935],\n",
              "       [0.88129861],\n",
              "       [0.80689888],\n",
              "       [0.3449442 ],\n",
              "       [0.44098749],\n",
              "       [0.23097734],\n",
              "       [0.10415962],\n",
              "       [0.4687183 ],\n",
              "       [0.80047345],\n",
              "       [0.73080825],\n",
              "       [0.67095029],\n",
              "       [0.36895502],\n",
              "       [0.08826513],\n",
              "       [0.43523842],\n",
              "       [0.71931011],\n",
              "       [0.05478526],\n",
              "       [0.0906324 ],\n",
              "       [0.40514034],\n",
              "       [0.01589449],\n",
              "       [0.38992222],\n",
              "       [0.25600271],\n",
              "       [0.80858979],\n",
              "       [0.25228272],\n",
              "       [0.22894826],\n",
              "       [0.71964829],\n",
              "       [0.65099763],\n",
              "       [0.25566452],\n",
              "       [0.37199865],\n",
              "       [0.2962462 ],\n",
              "       [0.36895502],\n",
              "       [0.45180927],\n",
              "       [0.09435238],\n",
              "       [0.73385188],\n",
              "       [0.84612783],\n",
              "       [0.36083869],\n",
              "       [0.54988164],\n",
              "       [0.66587758],\n",
              "       [0.62292864],\n",
              "       [0.9773419 ],\n",
              "       [0.45485289],\n",
              "       [0.74974636],\n",
              "       [1.        ],\n",
              "       [0.94521474],\n",
              "       [0.63307406],\n",
              "       [0.8031789 ],\n",
              "       [0.46398377],\n",
              "       [0.08217788],\n",
              "       [0.30334799],\n",
              "       [0.04193439],\n",
              "       [0.86134596],\n",
              "       [0.7612445 ],\n",
              "       [0.81501522],\n",
              "       [0.59181603],\n",
              "       [0.70645925],\n",
              "       [0.26208996],\n",
              "       [0.25160636],\n",
              "       [0.46838011],\n",
              "       [0.25600271],\n",
              "       [0.42272574],\n",
              "       [0.06323977],\n",
              "       [0.47548191],\n",
              "       [0.06121069],\n",
              "       [0.75515725],\n",
              "       [0.41393304],\n",
              "       [0.77375719],\n",
              "       [0.29252621],\n",
              "       [0.02401082],\n",
              "       [0.26885357],\n",
              "       [0.74264457],\n",
              "       [0.19918837],\n",
              "       [0.        ],\n",
              "       [0.89448766],\n",
              "       [0.02603991],\n",
              "       [0.74095367],\n",
              "       [0.12242137],\n",
              "       [0.16097396],\n",
              "       [0.08420697],\n",
              "       [0.92323301],\n",
              "       [0.14305039],\n",
              "       [0.62292864],\n",
              "       [0.24585729],\n",
              "       [0.65268854],\n",
              "       [0.74332093],\n",
              "       [0.35136963],\n",
              "       [0.32296246],\n",
              "       [0.4721001 ],\n",
              "       [0.80960433],\n",
              "       [0.82008793],\n",
              "       [0.12614136],\n",
              "       [0.14879946],\n",
              "       [0.94690565],\n",
              "       [0.40683125],\n",
              "       [0.66587758],\n",
              "       [0.57693608],\n",
              "       [0.63273588],\n",
              "       [0.01149814],\n",
              "       [0.31518431],\n",
              "       [0.50422726],\n",
              "       [0.03719986],\n",
              "       [0.44301657],\n",
              "       [0.58099425],\n",
              "       [0.2874535 ],\n",
              "       [0.63476496],\n",
              "       [0.550558  ],\n",
              "       [0.39398039],\n",
              "       [0.79066622],\n",
              "       [0.05816706],\n",
              "       [0.69699019],\n",
              "       [0.72607372],\n",
              "       [0.95908015],\n",
              "       [0.16672303],\n",
              "       [0.5539398 ],\n",
              "       [0.06391613],\n",
              "       [0.56712885],\n",
              "       [0.74974636],\n",
              "       [0.93405479],\n",
              "       [0.83767332],\n",
              "       [0.5732161 ],\n",
              "       [0.93337842],\n",
              "       [0.55765979],\n",
              "       [0.52722354],\n",
              "       [0.73655732],\n",
              "       [0.18769023],\n",
              "       [0.97024011],\n",
              "       [0.85593507],\n",
              "       [0.69090294],\n",
              "       [0.46939466],\n",
              "       [0.64389584],\n",
              "       [0.96482922],\n",
              "       [0.06087251],\n",
              "       [0.13121407],\n",
              "       [0.25295908],\n",
              "       [0.0557998 ],\n",
              "       [0.56171796],\n",
              "       [0.50388908],\n",
              "       [0.12681772],\n",
              "       [0.31619885],\n",
              "       [0.59621238],\n",
              "       [0.95671288],\n",
              "       [0.78254988]])"
            ]
          },
          "metadata": {},
          "execution_count": 75
        }
      ]
    },
    {
      "cell_type": "code",
      "source": [
        "train_x,test_x,train_y,test_y=train_test_split(x_data,y_data,test_size=0.2)"
      ],
      "metadata": {
        "id": "TENwYmZX9juR"
      },
      "execution_count": null,
      "outputs": []
    },
    {
      "cell_type": "code",
      "source": [
        "model=LinearRegression()\n",
        "model.fit(train_x,train_y)"
      ],
      "metadata": {
        "colab": {
          "base_uri": "https://localhost:8080/",
          "height": 75
        },
        "id": "FfKAFehb-RHc",
        "outputId": "d1ed6bdf-d550-4ba5-deee-3cf5329269f2"
      },
      "execution_count": null,
      "outputs": [
        {
          "output_type": "execute_result",
          "data": {
            "text/plain": [
              "LinearRegression()"
            ],
            "text/html": [
              "<style>#sk-container-id-5 {color: black;background-color: white;}#sk-container-id-5 pre{padding: 0;}#sk-container-id-5 div.sk-toggleable {background-color: white;}#sk-container-id-5 label.sk-toggleable__label {cursor: pointer;display: block;width: 100%;margin-bottom: 0;padding: 0.3em;box-sizing: border-box;text-align: center;}#sk-container-id-5 label.sk-toggleable__label-arrow:before {content: \"▸\";float: left;margin-right: 0.25em;color: #696969;}#sk-container-id-5 label.sk-toggleable__label-arrow:hover:before {color: black;}#sk-container-id-5 div.sk-estimator:hover label.sk-toggleable__label-arrow:before {color: black;}#sk-container-id-5 div.sk-toggleable__content {max-height: 0;max-width: 0;overflow: hidden;text-align: left;background-color: #f0f8ff;}#sk-container-id-5 div.sk-toggleable__content pre {margin: 0.2em;color: black;border-radius: 0.25em;background-color: #f0f8ff;}#sk-container-id-5 input.sk-toggleable__control:checked~div.sk-toggleable__content {max-height: 200px;max-width: 100%;overflow: auto;}#sk-container-id-5 input.sk-toggleable__control:checked~label.sk-toggleable__label-arrow:before {content: \"▾\";}#sk-container-id-5 div.sk-estimator input.sk-toggleable__control:checked~label.sk-toggleable__label {background-color: #d4ebff;}#sk-container-id-5 div.sk-label input.sk-toggleable__control:checked~label.sk-toggleable__label {background-color: #d4ebff;}#sk-container-id-5 input.sk-hidden--visually {border: 0;clip: rect(1px 1px 1px 1px);clip: rect(1px, 1px, 1px, 1px);height: 1px;margin: -1px;overflow: hidden;padding: 0;position: absolute;width: 1px;}#sk-container-id-5 div.sk-estimator {font-family: monospace;background-color: #f0f8ff;border: 1px dotted black;border-radius: 0.25em;box-sizing: border-box;margin-bottom: 0.5em;}#sk-container-id-5 div.sk-estimator:hover {background-color: #d4ebff;}#sk-container-id-5 div.sk-parallel-item::after {content: \"\";width: 100%;border-bottom: 1px solid gray;flex-grow: 1;}#sk-container-id-5 div.sk-label:hover label.sk-toggleable__label {background-color: #d4ebff;}#sk-container-id-5 div.sk-serial::before {content: \"\";position: absolute;border-left: 1px solid gray;box-sizing: border-box;top: 0;bottom: 0;left: 50%;z-index: 0;}#sk-container-id-5 div.sk-serial {display: flex;flex-direction: column;align-items: center;background-color: white;padding-right: 0.2em;padding-left: 0.2em;position: relative;}#sk-container-id-5 div.sk-item {position: relative;z-index: 1;}#sk-container-id-5 div.sk-parallel {display: flex;align-items: stretch;justify-content: center;background-color: white;position: relative;}#sk-container-id-5 div.sk-item::before, #sk-container-id-5 div.sk-parallel-item::before {content: \"\";position: absolute;border-left: 1px solid gray;box-sizing: border-box;top: 0;bottom: 0;left: 50%;z-index: -1;}#sk-container-id-5 div.sk-parallel-item {display: flex;flex-direction: column;z-index: 1;position: relative;background-color: white;}#sk-container-id-5 div.sk-parallel-item:first-child::after {align-self: flex-end;width: 50%;}#sk-container-id-5 div.sk-parallel-item:last-child::after {align-self: flex-start;width: 50%;}#sk-container-id-5 div.sk-parallel-item:only-child::after {width: 0;}#sk-container-id-5 div.sk-dashed-wrapped {border: 1px dashed gray;margin: 0 0.4em 0.5em 0.4em;box-sizing: border-box;padding-bottom: 0.4em;background-color: white;}#sk-container-id-5 div.sk-label label {font-family: monospace;font-weight: bold;display: inline-block;line-height: 1.2em;}#sk-container-id-5 div.sk-label-container {text-align: center;}#sk-container-id-5 div.sk-container {/* jupyter's `normalize.less` sets `[hidden] { display: none; }` but bootstrap.min.css set `[hidden] { display: none !important; }` so we also need the `!important` here to be able to override the default hidden behavior on the sphinx rendered scikit-learn.org. See: https://github.com/scikit-learn/scikit-learn/issues/21755 */display: inline-block !important;position: relative;}#sk-container-id-5 div.sk-text-repr-fallback {display: none;}</style><div id=\"sk-container-id-5\" class=\"sk-top-container\"><div class=\"sk-text-repr-fallback\"><pre>LinearRegression()</pre><b>In a Jupyter environment, please rerun this cell to show the HTML representation or trust the notebook. <br />On GitHub, the HTML representation is unable to render, please try loading this page with nbviewer.org.</b></div><div class=\"sk-container\" hidden><div class=\"sk-item\"><div class=\"sk-estimator sk-toggleable\"><input class=\"sk-toggleable__control sk-hidden--visually\" id=\"sk-estimator-id-5\" type=\"checkbox\" checked><label for=\"sk-estimator-id-5\" class=\"sk-toggleable__label sk-toggleable__label-arrow\">LinearRegression</label><div class=\"sk-toggleable__content\"><pre>LinearRegression()</pre></div></div></div></div></div>"
            ]
          },
          "metadata": {},
          "execution_count": 78
        }
      ]
    },
    {
      "cell_type": "code",
      "source": [
        "model.predict(test_x)"
      ],
      "metadata": {
        "colab": {
          "base_uri": "https://localhost:8080/"
        },
        "id": "HQjaCJyb-dGX",
        "outputId": "b7498074-af63-4c9b-acd1-7889e5c90df8"
      },
      "execution_count": null,
      "outputs": [
        {
          "output_type": "execute_result",
          "data": {
            "text/plain": [
              "array([[0.53459112],\n",
              "       [0.46938019],\n",
              "       [0.24320321],\n",
              "       [0.33614752],\n",
              "       [0.46488288],\n",
              "       [0.43227742],\n",
              "       [0.25444647],\n",
              "       [0.27768255],\n",
              "       [0.61573   ],\n",
              "       [0.38243229],\n",
              "       [0.51903793],\n",
              "       [0.65283277],\n",
              "       [0.56850829],\n",
              "       [0.48718202],\n",
              "       [0.35301242],\n",
              "       [0.33877095],\n",
              "       [0.3440178 ],\n",
              "       [0.39461249],\n",
              "       [0.64589942],\n",
              "       [0.28049337],\n",
              "       [0.23102301],\n",
              "       [0.52747038],\n",
              "       [0.22221579],\n",
              "       [0.69611933],\n",
              "       [0.46169729],\n",
              "       [0.73247255],\n",
              "       [0.65939134],\n",
              "       [0.27562129],\n",
              "       [0.55857674],\n",
              "       [0.61966514],\n",
              "       [0.3318376 ],\n",
              "       [0.55295511],\n",
              "       [0.41803595],\n",
              "       [0.65601836],\n",
              "       [0.41222693],\n",
              "       [0.67663101],\n",
              "       [0.57956417],\n",
              "       [0.61591739],\n",
              "       [0.58893355],\n",
              "       [0.58593535]])"
            ]
          },
          "metadata": {},
          "execution_count": 79
        }
      ]
    },
    {
      "cell_type": "code",
      "source": [
        "test_y"
      ],
      "metadata": {
        "colab": {
          "base_uri": "https://localhost:8080/"
        },
        "id": "24vpVd88_UXY",
        "outputId": "94fcb6d5-2366-483e-a398-1043ba431a5c"
      },
      "execution_count": null,
      "outputs": [
        {
          "output_type": "execute_result",
          "data": {
            "text/plain": [
              "array([[0.52362205],\n",
              "       [0.34251969],\n",
              "       [0.23622047],\n",
              "       [0.38188976],\n",
              "       [0.69291339],\n",
              "       [0.49606299],\n",
              "       [0.31102362],\n",
              "       [0.36614173],\n",
              "       [0.64566929],\n",
              "       [0.53937008],\n",
              "       [0.70866142],\n",
              "       [0.7519685 ],\n",
              "       [0.53543307],\n",
              "       [0.33464567],\n",
              "       [0.51181102],\n",
              "       [0.3503937 ],\n",
              "       [0.36614173],\n",
              "       [0.35826772],\n",
              "       [0.40551181],\n",
              "       [0.36220472],\n",
              "       [0.14566929],\n",
              "       [0.68503937],\n",
              "       [0.16141732],\n",
              "       [0.88976378],\n",
              "       [0.45669291],\n",
              "       [0.57086614],\n",
              "       [0.79527559],\n",
              "       [0.36220472],\n",
              "       [0.51574803],\n",
              "       [0.72834646],\n",
              "       [0.31889764],\n",
              "       [0.54724409],\n",
              "       [0.40551181],\n",
              "       [0.8503937 ],\n",
              "       [0.59448819],\n",
              "       [0.81102362],\n",
              "       [0.65748031],\n",
              "       [0.41732283],\n",
              "       [0.68503937],\n",
              "       [0.59055118]])"
            ]
          },
          "metadata": {},
          "execution_count": 80
        }
      ]
    },
    {
      "cell_type": "code",
      "source": [
        "plt.scatter(train_x,train_y)\n",
        "plt.scatter(test_x,test_y,color=\"red\")\n",
        "plt.plot(train_x,model.predict(train_x))"
      ],
      "metadata": {
        "colab": {
          "base_uri": "https://localhost:8080/",
          "height": 447
        },
        "id": "t-vNIs8u_fBu",
        "outputId": "81eadf1c-4aaa-429a-b80b-e8728a259a3e"
      },
      "execution_count": null,
      "outputs": [
        {
          "output_type": "execute_result",
          "data": {
            "text/plain": [
              "[<matplotlib.lines.Line2D at 0x7cebdfcdb910>]"
            ]
          },
          "metadata": {},
          "execution_count": 81
        },
        {
          "output_type": "display_data",
          "data": {
            "text/plain": [
              "<Figure size 640x480 with 1 Axes>"
            ],
            "image/png": "[encoded data removed]"
          },
          "metadata": {}
        }
      ]
    },
    {
      "cell_type": "code",
      "source": [
        "r2_score(test_y,model.predict(test_x))"
      ],
      "metadata": {
        "id": "VbNI_rl-_pPi",
        "colab": {
          "base_uri": "https://localhost:8080/"
        },
        "outputId": "1ab15b3a-f70a-4616-afbd-eb8b90101426"
      },
      "execution_count": null,
      "outputs": [
        {
          "output_type": "execute_result",
          "data": {
            "text/plain": [
              "0.5973060088166667"
            ]
          },
          "metadata": {},
          "execution_count": 82
        }
      ]
    },
    {
      "cell_type": "code",
      "source": [
        "mean_squared_error(test_y,model.predict(test_x))"
      ],
      "metadata": {
        "colab": {
          "base_uri": "https://localhost:8080/"
        },
        "id": "WC9fRNTYHmmr",
        "outputId": "19a3464a-7ea5-459e-e5d8-56edb90d236b"
      },
      "execution_count": null,
      "outputs": [
        {
          "output_type": "execute_result",
          "data": {
            "text/plain": [
              "0.013899733740874404"
            ]
          },
          "metadata": {},
          "execution_count": 83
        }
      ]
    },
    {
      "cell_type": "code",
      "source": [],
      "metadata": {
        "id": "VJQANOC4HpnI"
      },
      "execution_count": null,
      "outputs": []
    }
  ]
}